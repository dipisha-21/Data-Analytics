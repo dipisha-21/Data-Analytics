{
 "cells": [
  {
   "cell_type": "markdown",
   "id": "1a74266a",
   "metadata": {},
   "source": [
    "## The Weather Dataset is a country based data containing date, precipitation, snow_depth, tavg, tmin and tmax .\n",
    "\n",
    "## This data is available as a CSV file. We are going to analyze this data set using the Pandas DataFrame."
   ]
  },
  {
   "cell_type": "code",
   "execution_count": 1,
   "id": "3a62d7ed",
   "metadata": {},
   "outputs": [],
   "source": [
    "import pandas as pd"
   ]
  },
  {
   "cell_type": "code",
   "execution_count": 4,
   "id": "105e4b1b",
   "metadata": {},
   "outputs": [],
   "source": [
    "data=pd.read_csv(r\"C:\\Users\\KIIT\\Downloads\\archive\\nordics_weather.csv\")"
   ]
  },
  {
   "cell_type": "code",
   "execution_count": 5,
   "id": "cb3b0d13",
   "metadata": {},
   "outputs": [
    {
     "data": {
      "text/html": [
       "<div>\n",
       "<style scoped>\n",
       "    .dataframe tbody tr th:only-of-type {\n",
       "        vertical-align: middle;\n",
       "    }\n",
       "\n",
       "    .dataframe tbody tr th {\n",
       "        vertical-align: top;\n",
       "    }\n",
       "\n",
       "    .dataframe thead th {\n",
       "        text-align: right;\n",
       "    }\n",
       "</style>\n",
       "<table border=\"1\" class=\"dataframe\">\n",
       "  <thead>\n",
       "    <tr style=\"text-align: right;\">\n",
       "      <th></th>\n",
       "      <th>country</th>\n",
       "      <th>date</th>\n",
       "      <th>precipitation</th>\n",
       "      <th>snow_depth</th>\n",
       "      <th>tavg</th>\n",
       "      <th>tmax</th>\n",
       "      <th>tmin</th>\n",
       "    </tr>\n",
       "  </thead>\n",
       "  <tbody>\n",
       "    <tr>\n",
       "      <th>0</th>\n",
       "      <td>Finland</td>\n",
       "      <td>1/1/2015</td>\n",
       "      <td>1.714141</td>\n",
       "      <td>284.545455</td>\n",
       "      <td>1.428571</td>\n",
       "      <td>2.912739</td>\n",
       "      <td>-1.015287</td>\n",
       "    </tr>\n",
       "    <tr>\n",
       "      <th>1</th>\n",
       "      <td>Finland</td>\n",
       "      <td>1/2/2015</td>\n",
       "      <td>10.016667</td>\n",
       "      <td>195.000000</td>\n",
       "      <td>0.553571</td>\n",
       "      <td>2.358599</td>\n",
       "      <td>-0.998718</td>\n",
       "    </tr>\n",
       "    <tr>\n",
       "      <th>2</th>\n",
       "      <td>Finland</td>\n",
       "      <td>1/3/2015</td>\n",
       "      <td>3.956061</td>\n",
       "      <td>284.294118</td>\n",
       "      <td>-1.739286</td>\n",
       "      <td>0.820382</td>\n",
       "      <td>-3.463871</td>\n",
       "    </tr>\n",
       "    <tr>\n",
       "      <th>3</th>\n",
       "      <td>Finland</td>\n",
       "      <td>1/4/2015</td>\n",
       "      <td>0.246193</td>\n",
       "      <td>260.772727</td>\n",
       "      <td>-7.035714</td>\n",
       "      <td>-3.110828</td>\n",
       "      <td>-9.502581</td>\n",
       "    </tr>\n",
       "    <tr>\n",
       "      <th>4</th>\n",
       "      <td>Finland</td>\n",
       "      <td>1/5/2015</td>\n",
       "      <td>0.036364</td>\n",
       "      <td>236.900000</td>\n",
       "      <td>-17.164286</td>\n",
       "      <td>-8.727564</td>\n",
       "      <td>-19.004487</td>\n",
       "    </tr>\n",
       "    <tr>\n",
       "      <th>...</th>\n",
       "      <td>...</td>\n",
       "      <td>...</td>\n",
       "      <td>...</td>\n",
       "      <td>...</td>\n",
       "      <td>...</td>\n",
       "      <td>...</td>\n",
       "      <td>...</td>\n",
       "    </tr>\n",
       "    <tr>\n",
       "      <th>5473</th>\n",
       "      <td>Sweden</td>\n",
       "      <td>12/27/2019</td>\n",
       "      <td>0.105079</td>\n",
       "      <td>141.220930</td>\n",
       "      <td>-4.277778</td>\n",
       "      <td>-2.391204</td>\n",
       "      <td>-8.993458</td>\n",
       "    </tr>\n",
       "    <tr>\n",
       "      <th>5474</th>\n",
       "      <td>Sweden</td>\n",
       "      <td>12/28/2019</td>\n",
       "      <td>1.117688</td>\n",
       "      <td>142.955224</td>\n",
       "      <td>-3.866667</td>\n",
       "      <td>-3.006542</td>\n",
       "      <td>-11.593056</td>\n",
       "    </tr>\n",
       "    <tr>\n",
       "      <th>5475</th>\n",
       "      <td>Sweden</td>\n",
       "      <td>12/29/2019</td>\n",
       "      <td>1.758669</td>\n",
       "      <td>136.725146</td>\n",
       "      <td>1.755556</td>\n",
       "      <td>3.692056</td>\n",
       "      <td>-4.516204</td>\n",
       "    </tr>\n",
       "    <tr>\n",
       "      <th>5476</th>\n",
       "      <td>Sweden</td>\n",
       "      <td>12/30/2019</td>\n",
       "      <td>0.561996</td>\n",
       "      <td>120.740741</td>\n",
       "      <td>4.900000</td>\n",
       "      <td>6.135648</td>\n",
       "      <td>1.859070</td>\n",
       "    </tr>\n",
       "    <tr>\n",
       "      <th>5477</th>\n",
       "      <td>Sweden</td>\n",
       "      <td>12/31/2019</td>\n",
       "      <td>0.848161</td>\n",
       "      <td>131.583333</td>\n",
       "      <td>1.722222</td>\n",
       "      <td>4.376606</td>\n",
       "      <td>-2.290278</td>\n",
       "    </tr>\n",
       "  </tbody>\n",
       "</table>\n",
       "<p>5478 rows × 7 columns</p>\n",
       "</div>"
      ],
      "text/plain": [
       "      country        date  precipitation  snow_depth       tavg      tmax  \\\n",
       "0     Finland    1/1/2015       1.714141  284.545455   1.428571  2.912739   \n",
       "1     Finland    1/2/2015      10.016667  195.000000   0.553571  2.358599   \n",
       "2     Finland    1/3/2015       3.956061  284.294118  -1.739286  0.820382   \n",
       "3     Finland    1/4/2015       0.246193  260.772727  -7.035714 -3.110828   \n",
       "4     Finland    1/5/2015       0.036364  236.900000 -17.164286 -8.727564   \n",
       "...       ...         ...            ...         ...        ...       ...   \n",
       "5473   Sweden  12/27/2019       0.105079  141.220930  -4.277778 -2.391204   \n",
       "5474   Sweden  12/28/2019       1.117688  142.955224  -3.866667 -3.006542   \n",
       "5475   Sweden  12/29/2019       1.758669  136.725146   1.755556  3.692056   \n",
       "5476   Sweden  12/30/2019       0.561996  120.740741   4.900000  6.135648   \n",
       "5477   Sweden  12/31/2019       0.848161  131.583333   1.722222  4.376606   \n",
       "\n",
       "           tmin  \n",
       "0     -1.015287  \n",
       "1     -0.998718  \n",
       "2     -3.463871  \n",
       "3     -9.502581  \n",
       "4    -19.004487  \n",
       "...         ...  \n",
       "5473  -8.993458  \n",
       "5474 -11.593056  \n",
       "5475  -4.516204  \n",
       "5476   1.859070  \n",
       "5477  -2.290278  \n",
       "\n",
       "[5478 rows x 7 columns]"
      ]
     },
     "execution_count": 5,
     "metadata": {},
     "output_type": "execute_result"
    }
   ],
   "source": [
    "data"
   ]
  },
  {
   "cell_type": "code",
   "execution_count": 6,
   "id": "34e0ff37",
   "metadata": {},
   "outputs": [
    {
     "data": {
      "text/html": [
       "<div>\n",
       "<style scoped>\n",
       "    .dataframe tbody tr th:only-of-type {\n",
       "        vertical-align: middle;\n",
       "    }\n",
       "\n",
       "    .dataframe tbody tr th {\n",
       "        vertical-align: top;\n",
       "    }\n",
       "\n",
       "    .dataframe thead th {\n",
       "        text-align: right;\n",
       "    }\n",
       "</style>\n",
       "<table border=\"1\" class=\"dataframe\">\n",
       "  <thead>\n",
       "    <tr style=\"text-align: right;\">\n",
       "      <th></th>\n",
       "      <th>country</th>\n",
       "      <th>date</th>\n",
       "      <th>precipitation</th>\n",
       "      <th>snow_depth</th>\n",
       "      <th>tavg</th>\n",
       "      <th>tmax</th>\n",
       "      <th>tmin</th>\n",
       "    </tr>\n",
       "  </thead>\n",
       "  <tbody>\n",
       "    <tr>\n",
       "      <th>0</th>\n",
       "      <td>Finland</td>\n",
       "      <td>1/1/2015</td>\n",
       "      <td>1.714141</td>\n",
       "      <td>284.545455</td>\n",
       "      <td>1.428571</td>\n",
       "      <td>2.912739</td>\n",
       "      <td>-1.015287</td>\n",
       "    </tr>\n",
       "    <tr>\n",
       "      <th>1</th>\n",
       "      <td>Finland</td>\n",
       "      <td>1/2/2015</td>\n",
       "      <td>10.016667</td>\n",
       "      <td>195.000000</td>\n",
       "      <td>0.553571</td>\n",
       "      <td>2.358599</td>\n",
       "      <td>-0.998718</td>\n",
       "    </tr>\n",
       "    <tr>\n",
       "      <th>2</th>\n",
       "      <td>Finland</td>\n",
       "      <td>1/3/2015</td>\n",
       "      <td>3.956061</td>\n",
       "      <td>284.294118</td>\n",
       "      <td>-1.739286</td>\n",
       "      <td>0.820382</td>\n",
       "      <td>-3.463871</td>\n",
       "    </tr>\n",
       "    <tr>\n",
       "      <th>3</th>\n",
       "      <td>Finland</td>\n",
       "      <td>1/4/2015</td>\n",
       "      <td>0.246193</td>\n",
       "      <td>260.772727</td>\n",
       "      <td>-7.035714</td>\n",
       "      <td>-3.110828</td>\n",
       "      <td>-9.502581</td>\n",
       "    </tr>\n",
       "    <tr>\n",
       "      <th>4</th>\n",
       "      <td>Finland</td>\n",
       "      <td>1/5/2015</td>\n",
       "      <td>0.036364</td>\n",
       "      <td>236.900000</td>\n",
       "      <td>-17.164286</td>\n",
       "      <td>-8.727564</td>\n",
       "      <td>-19.004487</td>\n",
       "    </tr>\n",
       "  </tbody>\n",
       "</table>\n",
       "</div>"
      ],
      "text/plain": [
       "   country      date  precipitation  snow_depth       tavg      tmax  \\\n",
       "0  Finland  1/1/2015       1.714141  284.545455   1.428571  2.912739   \n",
       "1  Finland  1/2/2015      10.016667  195.000000   0.553571  2.358599   \n",
       "2  Finland  1/3/2015       3.956061  284.294118  -1.739286  0.820382   \n",
       "3  Finland  1/4/2015       0.246193  260.772727  -7.035714 -3.110828   \n",
       "4  Finland  1/5/2015       0.036364  236.900000 -17.164286 -8.727564   \n",
       "\n",
       "        tmin  \n",
       "0  -1.015287  \n",
       "1  -0.998718  \n",
       "2  -3.463871  \n",
       "3  -9.502581  \n",
       "4 -19.004487  "
      ]
     },
     "execution_count": 6,
     "metadata": {},
     "output_type": "execute_result"
    }
   ],
   "source": [
    "data.head()"
   ]
  },
  {
   "cell_type": "code",
   "execution_count": 8,
   "id": "fe8cdeaf",
   "metadata": {},
   "outputs": [
    {
     "data": {
      "text/plain": [
       "(5478, 7)"
      ]
     },
     "execution_count": 8,
     "metadata": {},
     "output_type": "execute_result"
    }
   ],
   "source": [
    "data.shape"
   ]
  },
  {
   "cell_type": "code",
   "execution_count": 9,
   "id": "12c85866",
   "metadata": {},
   "outputs": [
    {
     "data": {
      "text/plain": [
       "RangeIndex(start=0, stop=5478, step=1)"
      ]
     },
     "execution_count": 9,
     "metadata": {},
     "output_type": "execute_result"
    }
   ],
   "source": [
    "data.index"
   ]
  },
  {
   "cell_type": "code",
   "execution_count": 10,
   "id": "10b9507e",
   "metadata": {},
   "outputs": [
    {
     "data": {
      "text/plain": [
       "Index(['country', 'date', 'precipitation', 'snow_depth', 'tavg', 'tmax',\n",
       "       'tmin'],\n",
       "      dtype='object')"
      ]
     },
     "execution_count": 10,
     "metadata": {},
     "output_type": "execute_result"
    }
   ],
   "source": [
    "data.columns"
   ]
  },
  {
   "cell_type": "code",
   "execution_count": 11,
   "id": "37654c96",
   "metadata": {},
   "outputs": [
    {
     "data": {
      "text/plain": [
       "country           object\n",
       "date              object\n",
       "precipitation    float64\n",
       "snow_depth       float64\n",
       "tavg             float64\n",
       "tmax             float64\n",
       "tmin             float64\n",
       "dtype: object"
      ]
     },
     "execution_count": 11,
     "metadata": {},
     "output_type": "execute_result"
    }
   ],
   "source": [
    "data.dtypes"
   ]
  },
  {
   "cell_type": "code",
   "execution_count": 13,
   "id": "360cc2d4",
   "metadata": {},
   "outputs": [
    {
     "data": {
      "text/plain": [
       "array([2.91273885, 2.35859873, 0.82038217, ..., 3.69205607, 6.13564815,\n",
       "       4.3766055 ])"
      ]
     },
     "execution_count": 13,
     "metadata": {},
     "output_type": "execute_result"
    }
   ],
   "source": [
    "data['tmax'].unique()"
   ]
  },
  {
   "cell_type": "code",
   "execution_count": 14,
   "id": "d4f3be6d",
   "metadata": {},
   "outputs": [
    {
     "data": {
      "text/plain": [
       "country             3\n",
       "date             1826\n",
       "precipitation    5405\n",
       "snow_depth       3485\n",
       "tavg             4645\n",
       "tmax             5460\n",
       "tmin             5452\n",
       "dtype: int64"
      ]
     },
     "execution_count": 14,
     "metadata": {},
     "output_type": "execute_result"
    }
   ],
   "source": [
    "data.nunique()"
   ]
  },
  {
   "cell_type": "code",
   "execution_count": 15,
   "id": "30f801ab",
   "metadata": {},
   "outputs": [
    {
     "data": {
      "text/plain": [
       "<bound method DataFrame.count of       country        date  precipitation  snow_depth       tavg      tmax  \\\n",
       "0     Finland    1/1/2015       1.714141  284.545455   1.428571  2.912739   \n",
       "1     Finland    1/2/2015      10.016667  195.000000   0.553571  2.358599   \n",
       "2     Finland    1/3/2015       3.956061  284.294118  -1.739286  0.820382   \n",
       "3     Finland    1/4/2015       0.246193  260.772727  -7.035714 -3.110828   \n",
       "4     Finland    1/5/2015       0.036364  236.900000 -17.164286 -8.727564   \n",
       "...       ...         ...            ...         ...        ...       ...   \n",
       "5473   Sweden  12/27/2019       0.105079  141.220930  -4.277778 -2.391204   \n",
       "5474   Sweden  12/28/2019       1.117688  142.955224  -3.866667 -3.006542   \n",
       "5475   Sweden  12/29/2019       1.758669  136.725146   1.755556  3.692056   \n",
       "5476   Sweden  12/30/2019       0.561996  120.740741   4.900000  6.135648   \n",
       "5477   Sweden  12/31/2019       0.848161  131.583333   1.722222  4.376606   \n",
       "\n",
       "           tmin  \n",
       "0     -1.015287  \n",
       "1     -0.998718  \n",
       "2     -3.463871  \n",
       "3     -9.502581  \n",
       "4    -19.004487  \n",
       "...         ...  \n",
       "5473  -8.993458  \n",
       "5474 -11.593056  \n",
       "5475  -4.516204  \n",
       "5476   1.859070  \n",
       "5477  -2.290278  \n",
       "\n",
       "[5478 rows x 7 columns]>"
      ]
     },
     "execution_count": 15,
     "metadata": {},
     "output_type": "execute_result"
    }
   ],
   "source": [
    "data.count"
   ]
  },
  {
   "cell_type": "code",
   "execution_count": 19,
   "id": "8830b8b1",
   "metadata": {},
   "outputs": [
    {
     "data": {
      "text/plain": [
       " 15.017532    2\n",
       " 4.812500     2\n",
       " 8.463636     2\n",
       " 7.434234     2\n",
       " 7.394828     2\n",
       "             ..\n",
       " 3.344156     1\n",
       " 1.264052     1\n",
       "-4.703947     1\n",
       "-3.161039     1\n",
       " 4.376606     1\n",
       "Name: tmax, Length: 5460, dtype: int64"
      ]
     },
     "execution_count": 19,
     "metadata": {},
     "output_type": "execute_result"
    }
   ],
   "source": [
    "data['tmax'].value_counts()"
   ]
  },
  {
   "cell_type": "code",
   "execution_count": 24,
   "id": "dda81c70",
   "metadata": {
    "scrolled": true
   },
   "outputs": [
    {
     "name": "stdout",
     "output_type": "stream",
     "text": [
      "<class 'pandas.core.frame.DataFrame'>\n",
      "RangeIndex: 5478 entries, 0 to 5477\n",
      "Data columns (total 7 columns):\n",
      " #   Column         Non-Null Count  Dtype  \n",
      "---  ------         --------------  -----  \n",
      " 0   country        5478 non-null   object \n",
      " 1   date           5478 non-null   object \n",
      " 2   precipitation  5478 non-null   float64\n",
      " 3   snow_depth     5478 non-null   float64\n",
      " 4   tavg           5478 non-null   float64\n",
      " 5   tmax           5478 non-null   float64\n",
      " 6   tmin           5478 non-null   float64\n",
      "dtypes: float64(5), object(2)\n",
      "memory usage: 299.7+ KB\n"
     ]
    }
   ],
   "source": [
    "data.info()"
   ]
  },
  {
   "cell_type": "markdown",
   "id": "13a3e006",
   "metadata": {},
   "source": [
    "# Find all unique 'Precipitation' values in the data"
   ]
  },
  {
   "cell_type": "code",
   "execution_count": 25,
   "id": "539fce43",
   "metadata": {},
   "outputs": [
    {
     "data": {
      "text/html": [
       "<div>\n",
       "<style scoped>\n",
       "    .dataframe tbody tr th:only-of-type {\n",
       "        vertical-align: middle;\n",
       "    }\n",
       "\n",
       "    .dataframe tbody tr th {\n",
       "        vertical-align: top;\n",
       "    }\n",
       "\n",
       "    .dataframe thead th {\n",
       "        text-align: right;\n",
       "    }\n",
       "</style>\n",
       "<table border=\"1\" class=\"dataframe\">\n",
       "  <thead>\n",
       "    <tr style=\"text-align: right;\">\n",
       "      <th></th>\n",
       "      <th>country</th>\n",
       "      <th>date</th>\n",
       "      <th>precipitation</th>\n",
       "      <th>snow_depth</th>\n",
       "      <th>tavg</th>\n",
       "      <th>tmax</th>\n",
       "      <th>tmin</th>\n",
       "    </tr>\n",
       "  </thead>\n",
       "  <tbody>\n",
       "    <tr>\n",
       "      <th>0</th>\n",
       "      <td>Finland</td>\n",
       "      <td>1/1/2015</td>\n",
       "      <td>1.714141</td>\n",
       "      <td>284.545455</td>\n",
       "      <td>1.428571</td>\n",
       "      <td>2.912739</td>\n",
       "      <td>-1.015287</td>\n",
       "    </tr>\n",
       "    <tr>\n",
       "      <th>1</th>\n",
       "      <td>Finland</td>\n",
       "      <td>1/2/2015</td>\n",
       "      <td>10.016667</td>\n",
       "      <td>195.000000</td>\n",
       "      <td>0.553571</td>\n",
       "      <td>2.358599</td>\n",
       "      <td>-0.998718</td>\n",
       "    </tr>\n",
       "    <tr>\n",
       "      <th>2</th>\n",
       "      <td>Finland</td>\n",
       "      <td>1/3/2015</td>\n",
       "      <td>3.956061</td>\n",
       "      <td>284.294118</td>\n",
       "      <td>-1.739286</td>\n",
       "      <td>0.820382</td>\n",
       "      <td>-3.463871</td>\n",
       "    </tr>\n",
       "    <tr>\n",
       "      <th>3</th>\n",
       "      <td>Finland</td>\n",
       "      <td>1/4/2015</td>\n",
       "      <td>0.246193</td>\n",
       "      <td>260.772727</td>\n",
       "      <td>-7.035714</td>\n",
       "      <td>-3.110828</td>\n",
       "      <td>-9.502581</td>\n",
       "    </tr>\n",
       "    <tr>\n",
       "      <th>4</th>\n",
       "      <td>Finland</td>\n",
       "      <td>1/5/2015</td>\n",
       "      <td>0.036364</td>\n",
       "      <td>236.900000</td>\n",
       "      <td>-17.164286</td>\n",
       "      <td>-8.727564</td>\n",
       "      <td>-19.004487</td>\n",
       "    </tr>\n",
       "  </tbody>\n",
       "</table>\n",
       "</div>"
      ],
      "text/plain": [
       "   country      date  precipitation  snow_depth       tavg      tmax  \\\n",
       "0  Finland  1/1/2015       1.714141  284.545455   1.428571  2.912739   \n",
       "1  Finland  1/2/2015      10.016667  195.000000   0.553571  2.358599   \n",
       "2  Finland  1/3/2015       3.956061  284.294118  -1.739286  0.820382   \n",
       "3  Finland  1/4/2015       0.246193  260.772727  -7.035714 -3.110828   \n",
       "4  Finland  1/5/2015       0.036364  236.900000 -17.164286 -8.727564   \n",
       "\n",
       "        tmin  \n",
       "0  -1.015287  \n",
       "1  -0.998718  \n",
       "2  -3.463871  \n",
       "3  -9.502581  \n",
       "4 -19.004487  "
      ]
     },
     "execution_count": 25,
     "metadata": {},
     "output_type": "execute_result"
    }
   ],
   "source": [
    "data.head(5)"
   ]
  },
  {
   "cell_type": "code",
   "execution_count": 31,
   "id": "a3e32493",
   "metadata": {},
   "outputs": [
    {
     "data": {
      "text/plain": [
       "country             3\n",
       "date             1826\n",
       "precipitation    5405\n",
       "snow_depth       3485\n",
       "tavg             4645\n",
       "tmax             5460\n",
       "tmin             5452\n",
       "dtype: int64"
      ]
     },
     "execution_count": 31,
     "metadata": {},
     "output_type": "execute_result"
    }
   ],
   "source": [
    "data.nunique()"
   ]
  },
  {
   "cell_type": "code",
   "execution_count": 32,
   "id": "6455be3d",
   "metadata": {},
   "outputs": [
    {
     "data": {
      "text/plain": [
       "4645"
      ]
     },
     "execution_count": 32,
     "metadata": {},
     "output_type": "execute_result"
    }
   ],
   "source": [
    "data['tavg'].nunique()"
   ]
  },
  {
   "cell_type": "markdown",
   "id": "2319986a",
   "metadata": {},
   "source": [
    "# Find maximum snow_depth in the data"
   ]
  },
  {
   "cell_type": "code",
   "execution_count": 35,
   "id": "54b2c01d",
   "metadata": {},
   "outputs": [],
   "source": [
    "max_snow_depth=data['snow_depth'].max()"
   ]
  },
  {
   "cell_type": "code",
   "execution_count": 36,
   "id": "05848daa",
   "metadata": {},
   "outputs": [
    {
     "data": {
      "text/plain": [
       "682.9090909"
      ]
     },
     "execution_count": 36,
     "metadata": {},
     "output_type": "execute_result"
    }
   ],
   "source": [
    "max_snow_depth"
   ]
  },
  {
   "cell_type": "markdown",
   "id": "0d7e56c0",
   "metadata": {},
   "source": [
    "# Find out all the null values in the data"
   ]
  },
  {
   "cell_type": "code",
   "execution_count": 40,
   "id": "18b6edf1",
   "metadata": {},
   "outputs": [
    {
     "data": {
      "text/plain": [
       "country          0\n",
       "date             0\n",
       "precipitation    0\n",
       "snow_depth       0\n",
       "tavg             0\n",
       "tmax             0\n",
       "tmin             0\n",
       "dtype: int64"
      ]
     },
     "execution_count": 40,
     "metadata": {},
     "output_type": "execute_result"
    }
   ],
   "source": [
    "data.isnull().sum()"
   ]
  },
  {
   "cell_type": "markdown",
   "id": "92f75bd3",
   "metadata": {},
   "source": [
    "# Find all the not null values in the data"
   ]
  },
  {
   "cell_type": "code",
   "execution_count": 44,
   "id": "1d568737",
   "metadata": {},
   "outputs": [
    {
     "data": {
      "text/plain": [
       "country          5478\n",
       "date             5478\n",
       "precipitation    5478\n",
       "snow_depth       5478\n",
       "tavg             5478\n",
       "tmax             5478\n",
       "tmin             5478\n",
       "dtype: int64"
      ]
     },
     "execution_count": 44,
     "metadata": {},
     "output_type": "execute_result"
    }
   ],
   "source": [
    "data.notnull().sum()"
   ]
  },
  {
   "cell_type": "markdown",
   "id": "e0830aa1",
   "metadata": {},
   "source": [
    "# Find all Precipitation above 10 "
   ]
  },
  {
   "cell_type": "code",
   "execution_count": 43,
   "id": "ad26ce3b",
   "metadata": {},
   "outputs": [
    {
     "data": {
      "text/html": [
       "<div>\n",
       "<style scoped>\n",
       "    .dataframe tbody tr th:only-of-type {\n",
       "        vertical-align: middle;\n",
       "    }\n",
       "\n",
       "    .dataframe tbody tr th {\n",
       "        vertical-align: top;\n",
       "    }\n",
       "\n",
       "    .dataframe thead th {\n",
       "        text-align: right;\n",
       "    }\n",
       "</style>\n",
       "<table border=\"1\" class=\"dataframe\">\n",
       "  <thead>\n",
       "    <tr style=\"text-align: right;\">\n",
       "      <th></th>\n",
       "      <th>country</th>\n",
       "      <th>date</th>\n",
       "      <th>precipitation</th>\n",
       "      <th>snow_depth</th>\n",
       "      <th>tavg</th>\n",
       "      <th>tmax</th>\n",
       "      <th>tmin</th>\n",
       "    </tr>\n",
       "  </thead>\n",
       "  <tbody>\n",
       "    <tr>\n",
       "      <th>1</th>\n",
       "      <td>Finland</td>\n",
       "      <td>1/2/2015</td>\n",
       "      <td>10.016667</td>\n",
       "      <td>195.000000</td>\n",
       "      <td>0.553571</td>\n",
       "      <td>2.358599</td>\n",
       "      <td>-0.998718</td>\n",
       "    </tr>\n",
       "    <tr>\n",
       "      <th>239</th>\n",
       "      <td>Finland</td>\n",
       "      <td>8/28/2015</td>\n",
       "      <td>15.034500</td>\n",
       "      <td>0.000000</td>\n",
       "      <td>14.053571</td>\n",
       "      <td>16.379870</td>\n",
       "      <td>12.421569</td>\n",
       "    </tr>\n",
       "    <tr>\n",
       "      <th>260</th>\n",
       "      <td>Finland</td>\n",
       "      <td>9/18/2015</td>\n",
       "      <td>18.083838</td>\n",
       "      <td>0.000000</td>\n",
       "      <td>13.700000</td>\n",
       "      <td>15.293464</td>\n",
       "      <td>12.005882</td>\n",
       "    </tr>\n",
       "    <tr>\n",
       "      <th>532</th>\n",
       "      <td>Finland</td>\n",
       "      <td>6/16/2016</td>\n",
       "      <td>11.087437</td>\n",
       "      <td>0.000000</td>\n",
       "      <td>15.707143</td>\n",
       "      <td>20.872368</td>\n",
       "      <td>10.272185</td>\n",
       "    </tr>\n",
       "    <tr>\n",
       "      <th>533</th>\n",
       "      <td>Finland</td>\n",
       "      <td>6/17/2016</td>\n",
       "      <td>11.154000</td>\n",
       "      <td>0.000000</td>\n",
       "      <td>15.014286</td>\n",
       "      <td>19.074342</td>\n",
       "      <td>12.613158</td>\n",
       "    </tr>\n",
       "    <tr>\n",
       "      <th>...</th>\n",
       "      <td>...</td>\n",
       "      <td>...</td>\n",
       "      <td>...</td>\n",
       "      <td>...</td>\n",
       "      <td>...</td>\n",
       "      <td>...</td>\n",
       "      <td>...</td>\n",
       "    </tr>\n",
       "    <tr>\n",
       "      <th>3962</th>\n",
       "      <td>Sweden</td>\n",
       "      <td>11/7/2015</td>\n",
       "      <td>10.082825</td>\n",
       "      <td>1.256831</td>\n",
       "      <td>8.100000</td>\n",
       "      <td>7.930952</td>\n",
       "      <td>3.687251</td>\n",
       "    </tr>\n",
       "    <tr>\n",
       "      <th>4634</th>\n",
       "      <td>Sweden</td>\n",
       "      <td>9/9/2017</td>\n",
       "      <td>11.066167</td>\n",
       "      <td>0.000000</td>\n",
       "      <td>11.900000</td>\n",
       "      <td>12.896833</td>\n",
       "      <td>8.829412</td>\n",
       "    </tr>\n",
       "    <tr>\n",
       "      <th>4657</th>\n",
       "      <td>Sweden</td>\n",
       "      <td>10/2/2017</td>\n",
       "      <td>12.330885</td>\n",
       "      <td>0.000000</td>\n",
       "      <td>10.555556</td>\n",
       "      <td>10.864220</td>\n",
       "      <td>7.830137</td>\n",
       "    </tr>\n",
       "    <tr>\n",
       "      <th>4708</th>\n",
       "      <td>Sweden</td>\n",
       "      <td>11/22/2017</td>\n",
       "      <td>11.598145</td>\n",
       "      <td>81.489362</td>\n",
       "      <td>-2.688889</td>\n",
       "      <td>-0.407407</td>\n",
       "      <td>-8.379817</td>\n",
       "    </tr>\n",
       "    <tr>\n",
       "      <th>5050</th>\n",
       "      <td>Sweden</td>\n",
       "      <td>10/30/2018</td>\n",
       "      <td>10.750769</td>\n",
       "      <td>12.270115</td>\n",
       "      <td>3.166667</td>\n",
       "      <td>4.146544</td>\n",
       "      <td>-3.484545</td>\n",
       "    </tr>\n",
       "  </tbody>\n",
       "</table>\n",
       "<p>154 rows × 7 columns</p>\n",
       "</div>"
      ],
      "text/plain": [
       "      country        date  precipitation  snow_depth       tavg       tmax  \\\n",
       "1     Finland    1/2/2015      10.016667  195.000000   0.553571   2.358599   \n",
       "239   Finland   8/28/2015      15.034500    0.000000  14.053571  16.379870   \n",
       "260   Finland   9/18/2015      18.083838    0.000000  13.700000  15.293464   \n",
       "532   Finland   6/16/2016      11.087437    0.000000  15.707143  20.872368   \n",
       "533   Finland   6/17/2016      11.154000    0.000000  15.014286  19.074342   \n",
       "...       ...         ...            ...         ...        ...        ...   \n",
       "3962   Sweden   11/7/2015      10.082825    1.256831   8.100000   7.930952   \n",
       "4634   Sweden    9/9/2017      11.066167    0.000000  11.900000  12.896833   \n",
       "4657   Sweden   10/2/2017      12.330885    0.000000  10.555556  10.864220   \n",
       "4708   Sweden  11/22/2017      11.598145   81.489362  -2.688889  -0.407407   \n",
       "5050   Sweden  10/30/2018      10.750769   12.270115   3.166667   4.146544   \n",
       "\n",
       "           tmin  \n",
       "1     -0.998718  \n",
       "239   12.421569  \n",
       "260   12.005882  \n",
       "532   10.272185  \n",
       "533   12.613158  \n",
       "...         ...  \n",
       "3962   3.687251  \n",
       "4634   8.829412  \n",
       "4657   7.830137  \n",
       "4708  -8.379817  \n",
       "5050  -3.484545  \n",
       "\n",
       "[154 rows x 7 columns]"
      ]
     },
     "execution_count": 43,
     "metadata": {},
     "output_type": "execute_result"
    }
   ],
   "source": [
    "data[data['precipitation'] > 10]"
   ]
  },
  {
   "cell_type": "markdown",
   "id": "a7cd608e",
   "metadata": {},
   "source": [
    "# Rename tavg, tmin and tmax to temp_avg, temp_min and temp_max"
   ]
  },
  {
   "cell_type": "code",
   "execution_count": 45,
   "id": "ad6240ca",
   "metadata": {},
   "outputs": [],
   "source": [
    "data.rename(columns = {'tavg' : 'temp_avg', 'tmin':'temp_min', 'tmax':'temp_max'}, inplace = True)"
   ]
  },
  {
   "cell_type": "code",
   "execution_count": 46,
   "id": "114f1111",
   "metadata": {},
   "outputs": [
    {
     "data": {
      "text/html": [
       "<div>\n",
       "<style scoped>\n",
       "    .dataframe tbody tr th:only-of-type {\n",
       "        vertical-align: middle;\n",
       "    }\n",
       "\n",
       "    .dataframe tbody tr th {\n",
       "        vertical-align: top;\n",
       "    }\n",
       "\n",
       "    .dataframe thead th {\n",
       "        text-align: right;\n",
       "    }\n",
       "</style>\n",
       "<table border=\"1\" class=\"dataframe\">\n",
       "  <thead>\n",
       "    <tr style=\"text-align: right;\">\n",
       "      <th></th>\n",
       "      <th>country</th>\n",
       "      <th>date</th>\n",
       "      <th>precipitation</th>\n",
       "      <th>snow_depth</th>\n",
       "      <th>temp_avg</th>\n",
       "      <th>temp_max</th>\n",
       "      <th>temp_min</th>\n",
       "    </tr>\n",
       "  </thead>\n",
       "  <tbody>\n",
       "    <tr>\n",
       "      <th>0</th>\n",
       "      <td>Finland</td>\n",
       "      <td>1/1/2015</td>\n",
       "      <td>1.714141</td>\n",
       "      <td>284.545455</td>\n",
       "      <td>1.428571</td>\n",
       "      <td>2.912739</td>\n",
       "      <td>-1.015287</td>\n",
       "    </tr>\n",
       "    <tr>\n",
       "      <th>1</th>\n",
       "      <td>Finland</td>\n",
       "      <td>1/2/2015</td>\n",
       "      <td>10.016667</td>\n",
       "      <td>195.000000</td>\n",
       "      <td>0.553571</td>\n",
       "      <td>2.358599</td>\n",
       "      <td>-0.998718</td>\n",
       "    </tr>\n",
       "    <tr>\n",
       "      <th>2</th>\n",
       "      <td>Finland</td>\n",
       "      <td>1/3/2015</td>\n",
       "      <td>3.956061</td>\n",
       "      <td>284.294118</td>\n",
       "      <td>-1.739286</td>\n",
       "      <td>0.820382</td>\n",
       "      <td>-3.463871</td>\n",
       "    </tr>\n",
       "    <tr>\n",
       "      <th>3</th>\n",
       "      <td>Finland</td>\n",
       "      <td>1/4/2015</td>\n",
       "      <td>0.246193</td>\n",
       "      <td>260.772727</td>\n",
       "      <td>-7.035714</td>\n",
       "      <td>-3.110828</td>\n",
       "      <td>-9.502581</td>\n",
       "    </tr>\n",
       "    <tr>\n",
       "      <th>4</th>\n",
       "      <td>Finland</td>\n",
       "      <td>1/5/2015</td>\n",
       "      <td>0.036364</td>\n",
       "      <td>236.900000</td>\n",
       "      <td>-17.164286</td>\n",
       "      <td>-8.727564</td>\n",
       "      <td>-19.004487</td>\n",
       "    </tr>\n",
       "    <tr>\n",
       "      <th>...</th>\n",
       "      <td>...</td>\n",
       "      <td>...</td>\n",
       "      <td>...</td>\n",
       "      <td>...</td>\n",
       "      <td>...</td>\n",
       "      <td>...</td>\n",
       "      <td>...</td>\n",
       "    </tr>\n",
       "    <tr>\n",
       "      <th>5473</th>\n",
       "      <td>Sweden</td>\n",
       "      <td>12/27/2019</td>\n",
       "      <td>0.105079</td>\n",
       "      <td>141.220930</td>\n",
       "      <td>-4.277778</td>\n",
       "      <td>-2.391204</td>\n",
       "      <td>-8.993458</td>\n",
       "    </tr>\n",
       "    <tr>\n",
       "      <th>5474</th>\n",
       "      <td>Sweden</td>\n",
       "      <td>12/28/2019</td>\n",
       "      <td>1.117688</td>\n",
       "      <td>142.955224</td>\n",
       "      <td>-3.866667</td>\n",
       "      <td>-3.006542</td>\n",
       "      <td>-11.593056</td>\n",
       "    </tr>\n",
       "    <tr>\n",
       "      <th>5475</th>\n",
       "      <td>Sweden</td>\n",
       "      <td>12/29/2019</td>\n",
       "      <td>1.758669</td>\n",
       "      <td>136.725146</td>\n",
       "      <td>1.755556</td>\n",
       "      <td>3.692056</td>\n",
       "      <td>-4.516204</td>\n",
       "    </tr>\n",
       "    <tr>\n",
       "      <th>5476</th>\n",
       "      <td>Sweden</td>\n",
       "      <td>12/30/2019</td>\n",
       "      <td>0.561996</td>\n",
       "      <td>120.740741</td>\n",
       "      <td>4.900000</td>\n",
       "      <td>6.135648</td>\n",
       "      <td>1.859070</td>\n",
       "    </tr>\n",
       "    <tr>\n",
       "      <th>5477</th>\n",
       "      <td>Sweden</td>\n",
       "      <td>12/31/2019</td>\n",
       "      <td>0.848161</td>\n",
       "      <td>131.583333</td>\n",
       "      <td>1.722222</td>\n",
       "      <td>4.376606</td>\n",
       "      <td>-2.290278</td>\n",
       "    </tr>\n",
       "  </tbody>\n",
       "</table>\n",
       "<p>5478 rows × 7 columns</p>\n",
       "</div>"
      ],
      "text/plain": [
       "      country        date  precipitation  snow_depth   temp_avg  temp_max  \\\n",
       "0     Finland    1/1/2015       1.714141  284.545455   1.428571  2.912739   \n",
       "1     Finland    1/2/2015      10.016667  195.000000   0.553571  2.358599   \n",
       "2     Finland    1/3/2015       3.956061  284.294118  -1.739286  0.820382   \n",
       "3     Finland    1/4/2015       0.246193  260.772727  -7.035714 -3.110828   \n",
       "4     Finland    1/5/2015       0.036364  236.900000 -17.164286 -8.727564   \n",
       "...       ...         ...            ...         ...        ...       ...   \n",
       "5473   Sweden  12/27/2019       0.105079  141.220930  -4.277778 -2.391204   \n",
       "5474   Sweden  12/28/2019       1.117688  142.955224  -3.866667 -3.006542   \n",
       "5475   Sweden  12/29/2019       1.758669  136.725146   1.755556  3.692056   \n",
       "5476   Sweden  12/30/2019       0.561996  120.740741   4.900000  6.135648   \n",
       "5477   Sweden  12/31/2019       0.848161  131.583333   1.722222  4.376606   \n",
       "\n",
       "       temp_min  \n",
       "0     -1.015287  \n",
       "1     -0.998718  \n",
       "2     -3.463871  \n",
       "3     -9.502581  \n",
       "4    -19.004487  \n",
       "...         ...  \n",
       "5473  -8.993458  \n",
       "5474 -11.593056  \n",
       "5475  -4.516204  \n",
       "5476   1.859070  \n",
       "5477  -2.290278  \n",
       "\n",
       "[5478 rows x 7 columns]"
      ]
     },
     "execution_count": 46,
     "metadata": {},
     "output_type": "execute_result"
    }
   ],
   "source": [
    "data"
   ]
  },
  {
   "cell_type": "markdown",
   "id": "70ded565",
   "metadata": {},
   "source": [
    "# Find mean temp_max"
   ]
  },
  {
   "cell_type": "code",
   "execution_count": 47,
   "id": "3067c5d5",
   "metadata": {},
   "outputs": [
    {
     "data": {
      "text/plain": [
       "8.415625396744618"
      ]
     },
     "execution_count": 47,
     "metadata": {},
     "output_type": "execute_result"
    }
   ],
   "source": [
    "data.temp_max.mean()"
   ]
  },
  {
   "cell_type": "markdown",
   "id": "9fcc219a",
   "metadata": {},
   "source": [
    "# All data where precipitation is above 15 and snow_depth is above 200"
   ]
  },
  {
   "cell_type": "code",
   "execution_count": 48,
   "id": "90f85b7e",
   "metadata": {},
   "outputs": [
    {
     "data": {
      "text/html": [
       "<div>\n",
       "<style scoped>\n",
       "    .dataframe tbody tr th:only-of-type {\n",
       "        vertical-align: middle;\n",
       "    }\n",
       "\n",
       "    .dataframe tbody tr th {\n",
       "        vertical-align: top;\n",
       "    }\n",
       "\n",
       "    .dataframe thead th {\n",
       "        text-align: right;\n",
       "    }\n",
       "</style>\n",
       "<table border=\"1\" class=\"dataframe\">\n",
       "  <thead>\n",
       "    <tr style=\"text-align: right;\">\n",
       "      <th></th>\n",
       "      <th>country</th>\n",
       "      <th>date</th>\n",
       "      <th>precipitation</th>\n",
       "      <th>snow_depth</th>\n",
       "      <th>temp_avg</th>\n",
       "      <th>temp_max</th>\n",
       "      <th>temp_min</th>\n",
       "    </tr>\n",
       "  </thead>\n",
       "  <tbody>\n",
       "    <tr>\n",
       "      <th>1891</th>\n",
       "      <td>Norway</td>\n",
       "      <td>3/7/2015</td>\n",
       "      <td>15.306884</td>\n",
       "      <td>335.669767</td>\n",
       "      <td>3.838889</td>\n",
       "      <td>6.774107</td>\n",
       "      <td>1.541964</td>\n",
       "    </tr>\n",
       "    <tr>\n",
       "      <th>3630</th>\n",
       "      <td>Norway</td>\n",
       "      <td>12/10/2019</td>\n",
       "      <td>16.371429</td>\n",
       "      <td>201.222222</td>\n",
       "      <td>-5.111111</td>\n",
       "      <td>0.377451</td>\n",
       "      <td>-8.225962</td>\n",
       "    </tr>\n",
       "  </tbody>\n",
       "</table>\n",
       "</div>"
      ],
      "text/plain": [
       "     country        date  precipitation  snow_depth  temp_avg  temp_max  \\\n",
       "1891  Norway    3/7/2015      15.306884  335.669767  3.838889  6.774107   \n",
       "3630  Norway  12/10/2019      16.371429  201.222222 -5.111111  0.377451   \n",
       "\n",
       "      temp_min  \n",
       "1891  1.541964  \n",
       "3630 -8.225962  "
      ]
     },
     "execution_count": 48,
     "metadata": {},
     "output_type": "execute_result"
    }
   ],
   "source": [
    "data[(data['precipitation'] > 15) & (data['snow_depth'] > 200)]"
   ]
  },
  {
   "cell_type": "markdown",
   "id": "22d57fcc",
   "metadata": {},
   "source": [
    "# Mean value of each country"
   ]
  },
  {
   "cell_type": "code",
   "execution_count": 49,
   "id": "74bcd5dd",
   "metadata": {},
   "outputs": [
    {
     "data": {
      "text/html": [
       "<div>\n",
       "<style scoped>\n",
       "    .dataframe tbody tr th:only-of-type {\n",
       "        vertical-align: middle;\n",
       "    }\n",
       "\n",
       "    .dataframe tbody tr th {\n",
       "        vertical-align: top;\n",
       "    }\n",
       "\n",
       "    .dataframe thead th {\n",
       "        text-align: right;\n",
       "    }\n",
       "</style>\n",
       "<table border=\"1\" class=\"dataframe\">\n",
       "  <thead>\n",
       "    <tr style=\"text-align: right;\">\n",
       "      <th></th>\n",
       "      <th>precipitation</th>\n",
       "      <th>snow_depth</th>\n",
       "      <th>temp_avg</th>\n",
       "      <th>temp_max</th>\n",
       "      <th>temp_min</th>\n",
       "    </tr>\n",
       "    <tr>\n",
       "      <th>country</th>\n",
       "      <th></th>\n",
       "      <th></th>\n",
       "      <th></th>\n",
       "      <th></th>\n",
       "      <th></th>\n",
       "    </tr>\n",
       "  </thead>\n",
       "  <tbody>\n",
       "    <tr>\n",
       "      <th>Finland</th>\n",
       "      <td>1.710121</td>\n",
       "      <td>182.610660</td>\n",
       "      <td>3.900884</td>\n",
       "      <td>7.453320</td>\n",
       "      <td>0.090045</td>\n",
       "    </tr>\n",
       "    <tr>\n",
       "      <th>Norway</th>\n",
       "      <td>3.625628</td>\n",
       "      <td>113.083423</td>\n",
       "      <td>4.442090</td>\n",
       "      <td>8.700597</td>\n",
       "      <td>1.914550</td>\n",
       "    </tr>\n",
       "    <tr>\n",
       "      <th>Sweden</th>\n",
       "      <td>1.784801</td>\n",
       "      <td>86.062509</td>\n",
       "      <td>6.189291</td>\n",
       "      <td>9.092960</td>\n",
       "      <td>0.927675</td>\n",
       "    </tr>\n",
       "  </tbody>\n",
       "</table>\n",
       "</div>"
      ],
      "text/plain": [
       "         precipitation  snow_depth  temp_avg  temp_max  temp_min\n",
       "country                                                         \n",
       "Finland       1.710121  182.610660  3.900884  7.453320  0.090045\n",
       "Norway        3.625628  113.083423  4.442090  8.700597  1.914550\n",
       "Sweden        1.784801   86.062509  6.189291  9.092960  0.927675"
      ]
     },
     "execution_count": 49,
     "metadata": {},
     "output_type": "execute_result"
    }
   ],
   "source": [
    "data.groupby('country').mean() "
   ]
  },
  {
   "cell_type": "markdown",
   "id": "9cd73635",
   "metadata": {},
   "source": [
    "# Minimum and Maximum value of each country"
   ]
  },
  {
   "cell_type": "markdown",
   "id": "d6a353a0",
   "metadata": {},
   "source": [
    "### Minimum"
   ]
  },
  {
   "cell_type": "code",
   "execution_count": 50,
   "id": "6af73f16",
   "metadata": {},
   "outputs": [
    {
     "data": {
      "text/html": [
       "<div>\n",
       "<style scoped>\n",
       "    .dataframe tbody tr th:only-of-type {\n",
       "        vertical-align: middle;\n",
       "    }\n",
       "\n",
       "    .dataframe tbody tr th {\n",
       "        vertical-align: top;\n",
       "    }\n",
       "\n",
       "    .dataframe thead th {\n",
       "        text-align: right;\n",
       "    }\n",
       "</style>\n",
       "<table border=\"1\" class=\"dataframe\">\n",
       "  <thead>\n",
       "    <tr style=\"text-align: right;\">\n",
       "      <th></th>\n",
       "      <th>date</th>\n",
       "      <th>precipitation</th>\n",
       "      <th>snow_depth</th>\n",
       "      <th>temp_avg</th>\n",
       "      <th>temp_max</th>\n",
       "      <th>temp_min</th>\n",
       "    </tr>\n",
       "    <tr>\n",
       "      <th>country</th>\n",
       "      <th></th>\n",
       "      <th></th>\n",
       "      <th></th>\n",
       "      <th></th>\n",
       "      <th></th>\n",
       "      <th></th>\n",
       "    </tr>\n",
       "  </thead>\n",
       "  <tbody>\n",
       "    <tr>\n",
       "      <th>Finland</th>\n",
       "      <td>1/1/2015</td>\n",
       "      <td>0.000000</td>\n",
       "      <td>0.000000</td>\n",
       "      <td>-27.951852</td>\n",
       "      <td>-24.197403</td>\n",
       "      <td>-29.63961</td>\n",
       "    </tr>\n",
       "    <tr>\n",
       "      <th>Norway</th>\n",
       "      <td>1/1/2015</td>\n",
       "      <td>0.010317</td>\n",
       "      <td>-0.168539</td>\n",
       "      <td>-12.168421</td>\n",
       "      <td>-9.824107</td>\n",
       "      <td>-14.49469</td>\n",
       "    </tr>\n",
       "    <tr>\n",
       "      <th>Sweden</th>\n",
       "      <td>1/1/2015</td>\n",
       "      <td>0.000000</td>\n",
       "      <td>-0.026178</td>\n",
       "      <td>-15.644444</td>\n",
       "      <td>-15.636546</td>\n",
       "      <td>-22.42120</td>\n",
       "    </tr>\n",
       "  </tbody>\n",
       "</table>\n",
       "</div>"
      ],
      "text/plain": [
       "             date  precipitation  snow_depth   temp_avg   temp_max  temp_min\n",
       "country                                                                     \n",
       "Finland  1/1/2015       0.000000    0.000000 -27.951852 -24.197403 -29.63961\n",
       "Norway   1/1/2015       0.010317   -0.168539 -12.168421  -9.824107 -14.49469\n",
       "Sweden   1/1/2015       0.000000   -0.026178 -15.644444 -15.636546 -22.42120"
      ]
     },
     "execution_count": 50,
     "metadata": {},
     "output_type": "execute_result"
    }
   ],
   "source": [
    "data.groupby('country').min()"
   ]
  },
  {
   "cell_type": "markdown",
   "id": "0acd2d39",
   "metadata": {},
   "source": [
    "### Maximum"
   ]
  },
  {
   "cell_type": "code",
   "execution_count": 51,
   "id": "c56febba",
   "metadata": {},
   "outputs": [
    {
     "data": {
      "text/html": [
       "<div>\n",
       "<style scoped>\n",
       "    .dataframe tbody tr th:only-of-type {\n",
       "        vertical-align: middle;\n",
       "    }\n",
       "\n",
       "    .dataframe tbody tr th {\n",
       "        vertical-align: top;\n",
       "    }\n",
       "\n",
       "    .dataframe thead th {\n",
       "        text-align: right;\n",
       "    }\n",
       "</style>\n",
       "<table border=\"1\" class=\"dataframe\">\n",
       "  <thead>\n",
       "    <tr style=\"text-align: right;\">\n",
       "      <th></th>\n",
       "      <th>date</th>\n",
       "      <th>precipitation</th>\n",
       "      <th>snow_depth</th>\n",
       "      <th>temp_avg</th>\n",
       "      <th>temp_max</th>\n",
       "      <th>temp_min</th>\n",
       "    </tr>\n",
       "    <tr>\n",
       "      <th>country</th>\n",
       "      <th></th>\n",
       "      <th></th>\n",
       "      <th></th>\n",
       "      <th></th>\n",
       "      <th></th>\n",
       "      <th></th>\n",
       "    </tr>\n",
       "  </thead>\n",
       "  <tbody>\n",
       "    <tr>\n",
       "      <th>Finland</th>\n",
       "      <td>9/9/2019</td>\n",
       "      <td>18.083838</td>\n",
       "      <td>682.909091</td>\n",
       "      <td>24.407143</td>\n",
       "      <td>30.561438</td>\n",
       "      <td>17.930667</td>\n",
       "    </tr>\n",
       "    <tr>\n",
       "      <th>Norway</th>\n",
       "      <td>9/9/2019</td>\n",
       "      <td>21.947368</td>\n",
       "      <td>583.681818</td>\n",
       "      <td>20.258824</td>\n",
       "      <td>27.869903</td>\n",
       "      <td>16.573267</td>\n",
       "    </tr>\n",
       "    <tr>\n",
       "      <th>Sweden</th>\n",
       "      <td>9/9/2019</td>\n",
       "      <td>12.829487</td>\n",
       "      <td>534.726225</td>\n",
       "      <td>23.400000</td>\n",
       "      <td>29.789671</td>\n",
       "      <td>17.992891</td>\n",
       "    </tr>\n",
       "  </tbody>\n",
       "</table>\n",
       "</div>"
      ],
      "text/plain": [
       "             date  precipitation  snow_depth   temp_avg   temp_max   temp_min\n",
       "country                                                                      \n",
       "Finland  9/9/2019      18.083838  682.909091  24.407143  30.561438  17.930667\n",
       "Norway   9/9/2019      21.947368  583.681818  20.258824  27.869903  16.573267\n",
       "Sweden   9/9/2019      12.829487  534.726225  23.400000  29.789671  17.992891"
      ]
     },
     "execution_count": 51,
     "metadata": {},
     "output_type": "execute_result"
    }
   ],
   "source": [
    "data.groupby('country').max()"
   ]
  },
  {
   "cell_type": "markdown",
   "id": "484ade08",
   "metadata": {},
   "source": [
    "# All data where precipitation is above 15 and snow_depth is below 300 or temp_max is above 15"
   ]
  },
  {
   "cell_type": "code",
   "execution_count": 55,
   "id": "c24432e6",
   "metadata": {},
   "outputs": [
    {
     "data": {
      "text/html": [
       "<div>\n",
       "<style scoped>\n",
       "    .dataframe tbody tr th:only-of-type {\n",
       "        vertical-align: middle;\n",
       "    }\n",
       "\n",
       "    .dataframe tbody tr th {\n",
       "        vertical-align: top;\n",
       "    }\n",
       "\n",
       "    .dataframe thead th {\n",
       "        text-align: right;\n",
       "    }\n",
       "</style>\n",
       "<table border=\"1\" class=\"dataframe\">\n",
       "  <thead>\n",
       "    <tr style=\"text-align: right;\">\n",
       "      <th></th>\n",
       "      <th>country</th>\n",
       "      <th>date</th>\n",
       "      <th>precipitation</th>\n",
       "      <th>snow_depth</th>\n",
       "      <th>temp_avg</th>\n",
       "      <th>temp_max</th>\n",
       "      <th>temp_min</th>\n",
       "    </tr>\n",
       "  </thead>\n",
       "  <tbody>\n",
       "    <tr>\n",
       "      <th>141</th>\n",
       "      <td>Finland</td>\n",
       "      <td>5/22/2015</td>\n",
       "      <td>2.167005</td>\n",
       "      <td>112.500000</td>\n",
       "      <td>10.710714</td>\n",
       "      <td>15.458065</td>\n",
       "      <td>3.333548</td>\n",
       "    </tr>\n",
       "    <tr>\n",
       "      <th>145</th>\n",
       "      <td>Finland</td>\n",
       "      <td>5/26/2015</td>\n",
       "      <td>2.297462</td>\n",
       "      <td>69.750000</td>\n",
       "      <td>11.267857</td>\n",
       "      <td>15.975974</td>\n",
       "      <td>3.861290</td>\n",
       "    </tr>\n",
       "    <tr>\n",
       "      <th>146</th>\n",
       "      <td>Finland</td>\n",
       "      <td>5/27/2015</td>\n",
       "      <td>2.361929</td>\n",
       "      <td>67.250000</td>\n",
       "      <td>11.092857</td>\n",
       "      <td>15.142581</td>\n",
       "      <td>7.659091</td>\n",
       "    </tr>\n",
       "    <tr>\n",
       "      <th>148</th>\n",
       "      <td>Finland</td>\n",
       "      <td>5/29/2015</td>\n",
       "      <td>1.483249</td>\n",
       "      <td>24.750000</td>\n",
       "      <td>11.046429</td>\n",
       "      <td>15.940645</td>\n",
       "      <td>5.080000</td>\n",
       "    </tr>\n",
       "    <tr>\n",
       "      <th>149</th>\n",
       "      <td>Finland</td>\n",
       "      <td>5/30/2015</td>\n",
       "      <td>0.595431</td>\n",
       "      <td>5.000000</td>\n",
       "      <td>11.725000</td>\n",
       "      <td>16.250000</td>\n",
       "      <td>5.581169</td>\n",
       "    </tr>\n",
       "    <tr>\n",
       "      <th>...</th>\n",
       "      <td>...</td>\n",
       "      <td>...</td>\n",
       "      <td>...</td>\n",
       "      <td>...</td>\n",
       "      <td>...</td>\n",
       "      <td>...</td>\n",
       "      <td>...</td>\n",
       "    </tr>\n",
       "    <tr>\n",
       "      <th>5364</th>\n",
       "      <td>Sweden</td>\n",
       "      <td>9/9/2019</td>\n",
       "      <td>4.264561</td>\n",
       "      <td>0.000000</td>\n",
       "      <td>12.611111</td>\n",
       "      <td>15.276744</td>\n",
       "      <td>7.266977</td>\n",
       "    </tr>\n",
       "    <tr>\n",
       "      <th>5365</th>\n",
       "      <td>Sweden</td>\n",
       "      <td>9/10/2019</td>\n",
       "      <td>2.764737</td>\n",
       "      <td>0.000000</td>\n",
       "      <td>15.133333</td>\n",
       "      <td>17.635047</td>\n",
       "      <td>10.776279</td>\n",
       "    </tr>\n",
       "    <tr>\n",
       "      <th>5366</th>\n",
       "      <td>Sweden</td>\n",
       "      <td>9/11/2019</td>\n",
       "      <td>3.697544</td>\n",
       "      <td>0.000000</td>\n",
       "      <td>14.222222</td>\n",
       "      <td>17.266512</td>\n",
       "      <td>11.396729</td>\n",
       "    </tr>\n",
       "    <tr>\n",
       "      <th>5367</th>\n",
       "      <td>Sweden</td>\n",
       "      <td>9/12/2019</td>\n",
       "      <td>1.867018</td>\n",
       "      <td>0.000000</td>\n",
       "      <td>13.744444</td>\n",
       "      <td>16.728638</td>\n",
       "      <td>10.645794</td>\n",
       "    </tr>\n",
       "    <tr>\n",
       "      <th>5376</th>\n",
       "      <td>Sweden</td>\n",
       "      <td>9/21/2019</td>\n",
       "      <td>0.816140</td>\n",
       "      <td>0.247678</td>\n",
       "      <td>11.000000</td>\n",
       "      <td>15.026168</td>\n",
       "      <td>5.381221</td>\n",
       "    </tr>\n",
       "  </tbody>\n",
       "</table>\n",
       "<p>1583 rows × 7 columns</p>\n",
       "</div>"
      ],
      "text/plain": [
       "      country       date  precipitation  snow_depth   temp_avg   temp_max  \\\n",
       "141   Finland  5/22/2015       2.167005  112.500000  10.710714  15.458065   \n",
       "145   Finland  5/26/2015       2.297462   69.750000  11.267857  15.975974   \n",
       "146   Finland  5/27/2015       2.361929   67.250000  11.092857  15.142581   \n",
       "148   Finland  5/29/2015       1.483249   24.750000  11.046429  15.940645   \n",
       "149   Finland  5/30/2015       0.595431    5.000000  11.725000  16.250000   \n",
       "...       ...        ...            ...         ...        ...        ...   \n",
       "5364   Sweden   9/9/2019       4.264561    0.000000  12.611111  15.276744   \n",
       "5365   Sweden  9/10/2019       2.764737    0.000000  15.133333  17.635047   \n",
       "5366   Sweden  9/11/2019       3.697544    0.000000  14.222222  17.266512   \n",
       "5367   Sweden  9/12/2019       1.867018    0.000000  13.744444  16.728638   \n",
       "5376   Sweden  9/21/2019       0.816140    0.247678  11.000000  15.026168   \n",
       "\n",
       "       temp_min  \n",
       "141    3.333548  \n",
       "145    3.861290  \n",
       "146    7.659091  \n",
       "148    5.080000  \n",
       "149    5.581169  \n",
       "...         ...  \n",
       "5364   7.266977  \n",
       "5365  10.776279  \n",
       "5366  11.396729  \n",
       "5367  10.645794  \n",
       "5376   5.381221  \n",
       "\n",
       "[1583 rows x 7 columns]"
      ]
     },
     "execution_count": 55,
     "metadata": {},
     "output_type": "execute_result"
    }
   ],
   "source": [
    "data[(data['precipitation'] > 15) & (data['snow_depth'] < 300)|(data['temp_max'] > 15)]"
   ]
  },
  {
   "cell_type": "code",
   "execution_count": null,
   "id": "38893832",
   "metadata": {},
   "outputs": [],
   "source": []
  }
 ],
 "metadata": {
  "kernelspec": {
   "display_name": "Python 3 (ipykernel)",
   "language": "python",
   "name": "python3"
  },
  "language_info": {
   "codemirror_mode": {
    "name": "ipython",
    "version": 3
   },
   "file_extension": ".py",
   "mimetype": "text/x-python",
   "name": "python",
   "nbconvert_exporter": "python",
   "pygments_lexer": "ipython3",
   "version": "3.9.12"
  }
 },
 "nbformat": 4,
 "nbformat_minor": 5
}
